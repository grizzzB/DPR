{
 "cells": [
  {
   "cell_type": "code",
   "execution_count": 191,
   "metadata": {},
   "outputs": [],
   "source": [
    "from elasticsearch import Elasticsearch, helpers, AsyncElasticsearch\n",
    "import numpy as np\n",
    "import glob\n",
    "import json"
   ]
  },
  {
   "cell_type": "code",
   "execution_count": 169,
   "metadata": {},
   "outputs": [],
   "source": [
    "def check_ctx_len(data_list: list):\n",
    "    prag_list = [] # 길이 정보만 \n",
    "    check_docs = []\n",
    "\n",
    "    for doc in data_list:\n",
    "        form = {\n",
    "        \"title\":\"\",\n",
    "        \"len_pragraphs\":0,\n",
    "        \"len_ctxs\": 0,\n",
    "        \"len_qas\": 0,\n",
    "        \"context\":\"\"\n",
    "        }\n",
    "        try:\n",
    "            form[\"title\"] = doc['title']\n",
    "        except:\n",
    "            form[\"title\"] = doc['doc_title']\n",
    "        form['len_pragraphs'] = len(doc['paragraphs'])\n",
    "        for prag in doc['paragraphs']:\n",
    "            form[\"len_ctxs\"] = len(prag['context'].split(\" \"))\n",
    "            form[\"context\"] = prag['context']\n",
    "            form[\"len_qas\"] = len(prag[\"qas\"])\n",
    "        prag_list.append(form)\n",
    "    return prag_list\n",
    "    "
   ]
  },
  {
   "cell_type": "code",
   "execution_count": 204,
   "metadata": {},
   "outputs": [],
   "source": [
    "def show_doc_len(res, func):\n",
    "    res = check_ctx_len(res)# 최대 최소 등 길이 정보를 조회하는 목적\n",
    "    idx = -1\n",
    "    len_list = [l[\"len_ctxs\"] for l in res]\n",
    "    print(func(len_list))\n",
    "    try:\n",
    "        idx = len_list.index(func(len_list))\n",
    "    except:\n",
    "        pass\n",
    "   #return res, idx"
   ]
  },
  {
   "cell_type": "code",
   "execution_count": 63,
   "metadata": {},
   "outputs": [],
   "source": [
    "def index_mrc_docs(idx: str, docs: dict, title: str = 'title', doc_id: str = None) -> list:\n",
    "    # title 키값 이름이 다달라서 파라메터로 받음\n",
    "    docs_insert = []\n",
    "    index = idx\n",
    "    for k, v in docs.items():\n",
    "        tmp = {}\n",
    "        src = f\"{index}_{k}\"\n",
    "        tmp[\"_index\"] = index\n",
    "        tmp[\"source\"] = src\n",
    "        \n",
    "        for d in v['data']:\n",
    "            tmp[\"title\"] = d[title]\n",
    "            if doc_id:\n",
    "                tmp[\"doc_id\"] = d[doc_id]\n",
    "            for single_prag in d[\"paragraphs\"]:\n",
    "                tmp.update(single_prag)\n",
    "                docs_insert.append(tmp)\n",
    "    return docs_insert"
   ]
  },
  {
   "cell_type": "code",
   "execution_count": 42,
   "metadata": {},
   "outputs": [],
   "source": [
    "def load_dataset(path_list: list, train: str = 'train') :\n",
    "    # train 데이터 파일 이름에 train이 없을때를 대비하려고 파라메터로 받음\n",
    "    docs = {}\n",
    "    for doc in path_list:\n",
    "        with open( doc, \"r\",encoding='utf8') as fr:\n",
    "            if train in doc:\n",
    "                docs['train'] = json.load(fr)\n",
    "            else:\n",
    "                docs['dev'] = json.load(fr)\n",
    "    return docs"
   ]
  },
  {
   "cell_type": "code",
   "execution_count": 3,
   "metadata": {},
   "outputs": [
    {
     "name": "stdout",
     "output_type": "stream",
     "text": [
      "['/home/hjb/workspace/elk_practice/resources/es_idx_config/mrc/mrc_mapping.json', '/home/hjb/workspace/elk_practice/resources/es_idx_config/mrc/setting.json']\n"
     ]
    }
   ],
   "source": [
    "es_config = glob.glob(\"/home/hjb/workspace/elk_practice/resources/es_idx_config/mrc/*\")\n",
    "print(es_config)"
   ]
  },
  {
   "cell_type": "markdown",
   "metadata": {},
   "source": [
    "# Create Index"
   ]
  },
  {
   "cell_type": "code",
   "execution_count": 4,
   "metadata": {},
   "outputs": [],
   "source": [
    "payload = {}\n",
    "\n",
    "for config_ in es_config:\n",
    "    with open(config_, 'r', encoding='utf8') as fr:\n",
    "        if 'mapping' in config_:\n",
    "            payload.update(json.load(fr))\n",
    "        else:\n",
    "            payload.update(json.load(fr))"
   ]
  },
  {
   "cell_type": "code",
   "execution_count": 7,
   "metadata": {},
   "outputs": [],
   "source": [
    "es = Elasticsearch([\"http://localhost:9200\"])\n"
   ]
  },
  {
   "cell_type": "code",
   "execution_count": 8,
   "metadata": {},
   "outputs": [
    {
     "data": {
      "text/plain": [
       "ObjectApiResponse({'name': 'e9536fb1b1a5', 'cluster_name': 'docker-cluster', 'cluster_uuid': 'FAWHVAD6QMO9equB10N1SQ', 'version': {'number': '8.0.1', 'build_flavor': 'default', 'build_type': 'docker', 'build_hash': '801d9ccc7c2ee0f2cb121bbe22ab5af77a902372', 'build_date': '2022-02-24T13:55:40.601285296Z', 'build_snapshot': False, 'lucene_version': '9.0.0', 'minimum_wire_compatibility_version': '7.17.0', 'minimum_index_compatibility_version': '7.0.0'}, 'tagline': 'You Know, for Search'})"
      ]
     },
     "execution_count": 8,
     "metadata": {},
     "output_type": "execute_result"
    }
   ],
   "source": [
    "es.info()"
   ]
  },
  {
   "cell_type": "code",
   "execution_count": 9,
   "metadata": {},
   "outputs": [],
   "source": [
    "indices=[\"admin_mrc\",\"book_mrc\", \"news_mrc\", \"minds_news_mrc\", \"korquad1\"]\n"
   ]
  },
  {
   "cell_type": "code",
   "execution_count": 111,
   "metadata": {},
   "outputs": [
    {
     "data": {
      "text/plain": [
       "ObjectApiResponse({'acknowledged': True})"
      ]
     },
     "execution_count": 111,
     "metadata": {},
     "output_type": "execute_result"
    }
   ],
   "source": [
    "es.indices.delete(index=\"mindslab_news_mrc\" )"
   ]
  },
  {
   "cell_type": "code",
   "execution_count": 38,
   "metadata": {},
   "outputs": [
    {
     "name": "stderr",
     "output_type": "stream",
     "text": [
      "/tmp/ipykernel_14755/713483641.py:4: DeprecationWarning: The 'body' parameter is deprecated and will be removed in a future version. Instead use individual parameters.\n",
      "  es.indices.create(index=index ,body=payload)\n"
     ]
    }
   ],
   "source": [
    "for index in indices:\n",
    "    try:\n",
    "        #es.indices.delete(index=index)\n",
    "        es.indices.create(index=index ,body=payload)\n",
    "    except Exception:\n",
    "        pass"
   ]
  },
  {
   "cell_type": "code",
   "execution_count": 109,
   "metadata": {},
   "outputs": [
    {
     "name": "stdout",
     "output_type": "stream",
     "text": [
      "{'health': 'yellow', 'status': 'open', 'index': 'korquad1', 'uuid': '5KJ9IFgpTaGGIQ--aSBjWg', 'pri': '2', 'rep': '1', 'docs.count': '10645', 'docs.deleted': '0', 'store.size': '22.9mb', 'pri.store.size': '22.9mb'}\n",
      "{'health': 'yellow', 'status': 'open', 'index': 'mindslab_news_mrc', 'uuid': '_bcMDqXhQL2E2J9OyT0CCQ', 'pri': '1', 'rep': '1', 'docs.count': '47314', 'docs.deleted': '0', 'store.size': '45.9mb', 'pri.store.size': '45.9mb'}\n",
      "{'health': 'yellow', 'status': 'open', 'index': 'book_mrc', 'uuid': 'dK9nEP6gROeTvvgoX7-MYA', 'pri': '2', 'rep': '1', 'docs.count': '237500', 'docs.deleted': '0', 'store.size': '476.4mb', 'pri.store.size': '476.4mb'}\n",
      "{'health': 'yellow', 'status': 'open', 'index': 'news_mrc', 'uuid': '-DOy6kTORkiD_HoL8Fh_fg', 'pri': '2', 'rep': '1', 'docs.count': '125964', 'docs.deleted': '0', 'store.size': '407.7mb', 'pri.store.size': '407.7mb'}\n",
      "{'health': 'yellow', 'status': 'open', 'index': 'admin_mrc', 'uuid': 'MKb3eAXgR3qziQrLwLrK8g', 'pri': '2', 'rep': '1', 'docs.count': '75917', 'docs.deleted': '0', 'store.size': '255.1mb', 'pri.store.size': '255.1mb'}\n"
     ]
    }
   ],
   "source": [
    "res = es.cat.indices(format=\"json\", v=True)\n",
    "for r in res: \n",
    "    print(r)"
   ]
  },
  {
   "cell_type": "markdown",
   "metadata": {},
   "source": [
    "# Korquad Indexing"
   ]
  },
  {
   "cell_type": "code",
   "execution_count": 186,
   "metadata": {},
   "outputs": [],
   "source": [
    "kor_list = glob.glob(\"./raw_korquad/*.json\")"
   ]
  },
  {
   "cell_type": "code",
   "execution_count": 187,
   "metadata": {},
   "outputs": [
    {
     "data": {
      "text/plain": [
       "['./raw_korquad/KorQuAD_v1.0_train.json',\n",
       " './raw_korquad/KorQuAD_v1.0_dev.json']"
      ]
     },
     "execution_count": 187,
     "metadata": {},
     "output_type": "execute_result"
    }
   ],
   "source": [
    "kor_list"
   ]
  },
  {
   "cell_type": "code",
   "execution_count": 188,
   "metadata": {},
   "outputs": [],
   "source": [
    "docs = load_dataset(kor_list)"
   ]
  },
  {
   "cell_type": "code",
   "execution_count": 189,
   "metadata": {},
   "outputs": [
    {
     "data": {
      "text/plain": [
       "dict_keys(['paragraphs', 'title'])"
      ]
     },
     "execution_count": 189,
     "metadata": {},
     "output_type": "execute_result"
    }
   ],
   "source": [
    "docs['dev']['data'][0].keys()"
   ]
  },
  {
   "cell_type": "code",
   "execution_count": 206,
   "metadata": {},
   "outputs": [
    {
     "name": "stdout",
     "output_type": "stream",
     "text": [
      "** mean **\n",
      "109.99718309859155\n",
      "114.7\n",
      "** median **\n",
      "100.0\n",
      "100.0\n",
      "** max **\n",
      "482\n",
      "523\n"
     ]
    }
   ],
   "source": [
    "print(\"** mean **\")\n",
    "show_doc_len(docs['train']['data'], np.mean)\n",
    "show_doc_len(docs['dev']['data'], np.mean)\n",
    "print(\"** median **\")\n",
    "show_doc_len(docs['train']['data'], np.median)\n",
    "show_doc_len(docs['dev']['data'], np.median)\n",
    "print(\"** max **\")\n",
    "show_doc_len(docs['train']['data'], max)\n",
    "show_doc_len(docs['dev']['data'], max)"
   ]
  },
  {
   "cell_type": "markdown",
   "metadata": {},
   "source": [
    "## korquad 1.0 최대 단락 길이\n",
    "\n",
    "523"
   ]
  },
  {
   "cell_type": "code",
   "execution_count": 48,
   "metadata": {},
   "outputs": [
    {
     "name": "stdout",
     "output_type": "stream",
     "text": [
      "10645\n"
     ]
    }
   ],
   "source": [
    "insert_docs = index_mrc_docs(idx='korquad1', docs=docs, title='title')\n",
    "print(len(insert_docs))"
   ]
  },
  {
   "cell_type": "code",
   "execution_count": 49,
   "metadata": {},
   "outputs": [
    {
     "data": {
      "text/plain": [
       "(10645, [])"
      ]
     },
     "execution_count": 49,
     "metadata": {},
     "output_type": "execute_result"
    }
   ],
   "source": [
    "helpers.bulk(es, insert_docs)"
   ]
  },
  {
   "cell_type": "markdown",
   "metadata": {},
   "source": [
    "# AIHUB data\n",
    "## admin_mrc"
   ]
  },
  {
   "cell_type": "code",
   "execution_count": 207,
   "metadata": {},
   "outputs": [],
   "source": [
    "aihub_list = glob.glob(\"./aihub/admin_mrc/**/*span*.json\")\n"
   ]
  },
  {
   "cell_type": "code",
   "execution_count": 208,
   "metadata": {},
   "outputs": [
    {
     "data": {
      "text/plain": [
       "['./aihub/admin_mrc/train/TL_span_extraction_how.json',\n",
       " './aihub/admin_mrc/train/TL_span_extraction.json',\n",
       " './aihub/admin_mrc/dev/VL_span_extraction_how.json',\n",
       " './aihub/admin_mrc/dev/VL_span_extraction.json']"
      ]
     },
     "execution_count": 208,
     "metadata": {},
     "output_type": "execute_result"
    }
   ],
   "source": [
    "aihub_list"
   ]
  },
  {
   "cell_type": "code",
   "execution_count": 209,
   "metadata": {},
   "outputs": [],
   "source": [
    "docs = load_dataset(aihub_list, 'TL')"
   ]
  },
  {
   "cell_type": "code",
   "execution_count": 166,
   "metadata": {},
   "outputs": [
    {
     "data": {
      "text/plain": [
       "dict_keys(['doc_id', 'doc_title', 'doc_source', 'doc_published', 'doc_class', 'created', 'paragraphs'])"
      ]
     },
     "execution_count": 166,
     "metadata": {},
     "output_type": "execute_result"
    }
   ],
   "source": [
    "docs['train']['data'][0].keys()"
   ]
  },
  {
   "cell_type": "code",
   "execution_count": 210,
   "metadata": {},
   "outputs": [
    {
     "name": "stdout",
     "output_type": "stream",
     "text": [
      "** mean **\n",
      "125.46296064568604\n",
      "128.36695869837297\n",
      "** median **\n",
      "121.0\n",
      "123.0\n",
      "** max **\n",
      "431\n",
      "378\n"
     ]
    }
   ],
   "source": [
    "print(\"** mean **\")\n",
    "show_doc_len(docs['train']['data'], np.mean)\n",
    "show_doc_len(docs['dev']['data'], np.mean)\n",
    "print(\"** median **\")\n",
    "show_doc_len(docs['train']['data'], np.median)\n",
    "show_doc_len(docs['dev']['data'], np.median)\n",
    "print(\"** max **\")\n",
    "show_doc_len(docs['train']['data'], max)\n",
    "show_doc_len(docs['dev']['data'], max)"
   ]
  },
  {
   "cell_type": "code",
   "execution_count": 70,
   "metadata": {},
   "outputs": [],
   "source": [
    "insert_docs = index_mrc_docs(idx='admin_mrc', docs=docs, title='doc_title', doc_id='doc_id')"
   ]
  },
  {
   "cell_type": "code",
   "execution_count": 72,
   "metadata": {},
   "outputs": [
    {
     "data": {
      "text/plain": [
       "(75917, [])"
      ]
     },
     "execution_count": 72,
     "metadata": {},
     "output_type": "execute_result"
    }
   ],
   "source": [
    "helpers.bulk(es, insert_docs)"
   ]
  },
  {
   "cell_type": "markdown",
   "metadata": {},
   "source": [
    "## news_mrc"
   ]
  },
  {
   "cell_type": "code",
   "execution_count": 211,
   "metadata": {},
   "outputs": [],
   "source": [
    "aihub_list = glob.glob(\"./aihub/news_mrc/**/*extract*.json\")"
   ]
  },
  {
   "cell_type": "code",
   "execution_count": 212,
   "metadata": {},
   "outputs": [
    {
     "data": {
      "text/plain": [
       "['./aihub/news_mrc/train/TL_span_extraction.json',\n",
       " './aihub/news_mrc/dev/VL_span_extraction.json']"
      ]
     },
     "execution_count": 212,
     "metadata": {},
     "output_type": "execute_result"
    }
   ],
   "source": [
    "aihub_list"
   ]
  },
  {
   "cell_type": "code",
   "execution_count": 213,
   "metadata": {},
   "outputs": [],
   "source": [
    "docs = load_dataset(aihub_list, 'train')"
   ]
  },
  {
   "cell_type": "code",
   "execution_count": 76,
   "metadata": {},
   "outputs": [
    {
     "data": {
      "text/plain": [
       "dict_keys(['doc_id', 'doc_title', 'doc_source', 'doc_published', 'doc_class', 'created', 'paragraphs'])"
      ]
     },
     "execution_count": 76,
     "metadata": {},
     "output_type": "execute_result"
    }
   ],
   "source": [
    "docs['train']['data'][0].keys()"
   ]
  },
  {
   "cell_type": "code",
   "execution_count": 214,
   "metadata": {},
   "outputs": [
    {
     "name": "stdout",
     "output_type": "stream",
     "text": [
      "** mean **\n",
      "170.34916537908492\n",
      "230.71208116024863\n",
      "** median **\n",
      "153.0\n",
      "198.0\n",
      "** max **\n",
      "495\n",
      "486\n"
     ]
    }
   ],
   "source": [
    "print(\"** mean **\")\n",
    "show_doc_len(docs['train']['data'], np.mean)\n",
    "show_doc_len(docs['dev']['data'], np.mean)\n",
    "print(\"** median **\")\n",
    "show_doc_len(docs['train']['data'], np.median)\n",
    "show_doc_len(docs['dev']['data'], np.median)\n",
    "print(\"** max **\")\n",
    "show_doc_len(docs['train']['data'], max)\n",
    "show_doc_len(docs['dev']['data'], max)"
   ]
  },
  {
   "cell_type": "code",
   "execution_count": 77,
   "metadata": {},
   "outputs": [],
   "source": [
    "insert_docs = index_mrc_docs(idx='news_mrc', docs=docs, title='doc_title', doc_id='doc_id')"
   ]
  },
  {
   "cell_type": "code",
   "execution_count": 78,
   "metadata": {},
   "outputs": [
    {
     "data": {
      "text/plain": [
       "{'_index': 'news_mrc',\n",
       " 'source': 'news_mrc_train',\n",
       " 'title': '광주대 장기근속자·스승의날 유공 장관 표창 전수식',\n",
       " 'doc_id': '01600801.20210610140606002',\n",
       " 'context': '광주대학교(총장 김혁종)는 지난 9일 학교 행정관 회의실에서 장기근속자 공로패 수여식 및 스승의날 유공 교원 교육부장관 표창 전수식을 개최했다.\\n10일 광주대에 따르면 학교법인 호심학원 창설 51주년·광주대학교 개교 41주년을 기념해 진행된 이번 장기근속자 공로패 수여 대상자는 30년 근속 이봉규 인테리어디자인학과 교수와 박우미 패션·주일리디자인학부 교수 등 6명이다.\\n이날 제40회 스승의날 유공 교원 교육부장관 표창 전수식도 함께 열렸다. 교육부장관 표창은 올바른 교육관과 투철한 사명감으로 사도를 실천하고 헌신적인 노력을 통해 교육 발전에 이바지한 교원에게 수여된다.\\n김덕현 보건행정학부 교수와 임형택 청소년상담·평생교육학과 교수가 인재 양성 분야에서 수상의 영예를 안았다.\\n김 교수는 연구와 실무경험으로 대학과 지역 산업계의 유대를 강화하고 이를 바탕으로 인재 양성에 기여한 공로를 인정받았다.\\n또 임 교수는 다년간의 청소년 교육 분야 연구를 바탕으로 산학연계를 통한 맞춤형 교육과 후학양성에 노력한 점 등이 높은 평가를 받았다.',\n",
       " 'qas': [{'qa_type': 1,\n",
       "   'question_id': 4830354,\n",
       "   'question': '광주대학교로부터 공로패를 전달받게 된 교원은 몇 명이야',\n",
       "   'is_impossible': False,\n",
       "   'answers': {'text': '6명',\n",
       "    'answer_start': 202,\n",
       "    'clue_start': None,\n",
       "    'clue_text': None,\n",
       "    'options': None}},\n",
       "  {'qa_type': 1,\n",
       "   'question_id': 4961424,\n",
       "   'question': '광주대학교로부터 얼마나 되는 교원이 공로패를 전달받게 된 거야',\n",
       "   'is_impossible': False,\n",
       "   'answers': {'text': '6명',\n",
       "    'answer_start': 202,\n",
       "    'clue_start': None,\n",
       "    'clue_text': None,\n",
       "    'options': None}}],\n",
       " 'context_id': 710420}"
      ]
     },
     "execution_count": 78,
     "metadata": {},
     "output_type": "execute_result"
    }
   ],
   "source": [
    "insert_docs[0]"
   ]
  },
  {
   "cell_type": "code",
   "execution_count": 79,
   "metadata": {},
   "outputs": [
    {
     "data": {
      "text/plain": [
       "(125964, [])"
      ]
     },
     "execution_count": 79,
     "metadata": {},
     "output_type": "execute_result"
    }
   ],
   "source": [
    "helpers.bulk(es, insert_docs)"
   ]
  },
  {
   "cell_type": "markdown",
   "metadata": {},
   "source": [
    "## book_mrc"
   ]
  },
  {
   "cell_type": "code",
   "execution_count": 215,
   "metadata": {},
   "outputs": [],
   "source": [
    "aihub_list = glob.glob(\"./aihub/book_mrc/*.json\")"
   ]
  },
  {
   "cell_type": "code",
   "execution_count": 216,
   "metadata": {},
   "outputs": [
    {
     "data": {
      "text/plain": [
       "['./aihub/book_mrc/book_dev.json', './aihub/book_mrc/book_train.json']"
      ]
     },
     "execution_count": 216,
     "metadata": {},
     "output_type": "execute_result"
    }
   ],
   "source": [
    "aihub_list"
   ]
  },
  {
   "cell_type": "code",
   "execution_count": 217,
   "metadata": {},
   "outputs": [],
   "source": [
    "docs = load_dataset(aihub_list)"
   ]
  },
  {
   "cell_type": "code",
   "execution_count": 218,
   "metadata": {},
   "outputs": [
    {
     "name": "stdout",
     "output_type": "stream",
     "text": [
      "** mean **\n",
      "111.38915797317436\n",
      "112.23570712136409\n",
      "** median **\n",
      "110.0\n",
      "112.0\n",
      "** max **\n",
      "170\n",
      "171\n"
     ]
    }
   ],
   "source": [
    "print(\"** mean **\")\n",
    "show_doc_len(docs['train']['data'], np.mean)\n",
    "show_doc_len(docs['dev']['data'], np.mean)\n",
    "print(\"** median **\")\n",
    "show_doc_len(docs['train']['data'], np.median)\n",
    "show_doc_len(docs['dev']['data'], np.median)\n",
    "print(\"** max **\")\n",
    "show_doc_len(docs['train']['data'], max)\n",
    "show_doc_len(docs['dev']['data'], max)"
   ]
  },
  {
   "cell_type": "code",
   "execution_count": 134,
   "metadata": {},
   "outputs": [
    {
     "data": {
      "text/plain": [
       "171"
      ]
     },
     "execution_count": 134,
     "metadata": {},
     "output_type": "execute_result"
    }
   ],
   "source": [
    "max([ l[\"len_ctxs\"] for l in res])"
   ]
  },
  {
   "cell_type": "markdown",
   "metadata": {},
   "source": [
    "최대 길이 171. 아주 긴 단락은 없음"
   ]
  },
  {
   "cell_type": "code",
   "execution_count": 83,
   "metadata": {},
   "outputs": [
    {
     "data": {
      "text/plain": [
       "dict_keys(['time', 'title', 'agency', 'year', 'content_id', 'KDC', 'paragraphs'])"
      ]
     },
     "execution_count": 83,
     "metadata": {},
     "output_type": "execute_result"
    }
   ],
   "source": [
    "docs['train']['data'][0].keys()"
   ]
  },
  {
   "cell_type": "code",
   "execution_count": 84,
   "metadata": {},
   "outputs": [
    {
     "name": "stdout",
     "output_type": "stream",
     "text": [
      "237500\n"
     ]
    }
   ],
   "source": [
    "insert_docs = index_mrc_docs(idx='book_mrc', docs=docs, title='title', doc_id='content_id')\n",
    "print(len(insert_docs))"
   ]
  },
  {
   "cell_type": "code",
   "execution_count": 85,
   "metadata": {},
   "outputs": [
    {
     "data": {
      "text/plain": [
       "(237500, [])"
      ]
     },
     "execution_count": 85,
     "metadata": {},
     "output_type": "execute_result"
    }
   ],
   "source": [
    "helpers.bulk(es, insert_docs)"
   ]
  },
  {
   "cell_type": "markdown",
   "metadata": {},
   "source": [
    "## minds_news_mrc"
   ]
  },
  {
   "cell_type": "code",
   "execution_count": 220,
   "metadata": {},
   "outputs": [],
   "source": [
    "aihub_list = glob.glob(\"./aihub/mindslab_news_mrc/*.json\")"
   ]
  },
  {
   "cell_type": "code",
   "execution_count": 221,
   "metadata": {},
   "outputs": [
    {
     "data": {
      "text/plain": [
       "['./aihub/mindslab_news_mrc/ko_nia_noanswer_squad_all.json',\n",
       " './aihub/mindslab_news_mrc/ko_nia_clue0529_squad_all.json',\n",
       " './aihub/mindslab_news_mrc/ko_nia_normal_squad_all.json']"
      ]
     },
     "execution_count": 221,
     "metadata": {},
     "output_type": "execute_result"
    }
   ],
   "source": [
    "aihub_list"
   ]
  },
  {
   "cell_type": "code",
   "execution_count": 222,
   "metadata": {},
   "outputs": [],
   "source": [
    "docs = load_dataset(aihub_list)"
   ]
  },
  {
   "cell_type": "code",
   "execution_count": 223,
   "metadata": {},
   "outputs": [
    {
     "data": {
      "text/plain": [
       "dict_keys(['title', 'paragraphs', 'source'])"
      ]
     },
     "execution_count": 223,
     "metadata": {},
     "output_type": "execute_result"
    }
   ],
   "source": [
    "docs['dev'][\"data\"][40001].keys()"
   ]
  },
  {
   "cell_type": "code",
   "execution_count": 224,
   "metadata": {},
   "outputs": [
    {
     "name": "stdout",
     "output_type": "stream",
     "text": [
      "** mean **\n",
      "196.71443970072283\n",
      "** median **\n",
      "180.0\n",
      "** max **\n",
      "1481\n"
     ]
    }
   ],
   "source": [
    "print(\"** mean **\")\n",
    "show_doc_len(docs['dev']['data'], np.mean)\n",
    "print(\"** median **\")\n",
    "show_doc_len(docs['dev']['data'], np.median)\n",
    "print(\"** max **\")\n",
    "show_doc_len(docs['dev']['data'], max)"
   ]
  },
  {
   "cell_type": "code",
   "execution_count": 120,
   "metadata": {},
   "outputs": [
    {
     "name": "stdout",
     "output_type": "stream",
     "text": [
      "47314\n"
     ]
    }
   ],
   "source": [
    "insert_docs = index_mrc_docs(idx='minds_news_mrc', docs=docs, title='title', doc_id=False)\n",
    "print(len(insert_docs))"
   ]
  },
  {
   "cell_type": "code",
   "execution_count": 123,
   "metadata": {},
   "outputs": [
    {
     "data": {
      "text/plain": [
       "(47314, [])"
      ]
     },
     "execution_count": 123,
     "metadata": {},
     "output_type": "execute_result"
    }
   ],
   "source": [
    "helpers.bulk(es, insert_docs)"
   ]
  },
  {
   "cell_type": "code",
   "execution_count": 1,
   "metadata": {},
   "outputs": [
    {
     "name": "stdout",
     "output_type": "stream",
     "text": [
      "486695\n"
     ]
    }
   ],
   "source": [
    "print( 75917 + 125964 + 237500 + 47314 )"
   ]
  },
  {
   "cell_type": "markdown",
   "metadata": {},
   "source": [
    "# 간단 요약 노트\n",
    "\n",
    "총 단락 수는 486,695.  \n",
    "  \n",
    "단락 별 길이가 대략 100 언저리(110~190).  \n",
    "최대길이는 1,481(Mindslab이 구축한 뉴스 MRC 데이터)  \n",
    "긴 단락들은 보통 300~500  \n",
    "\n",
    "---  \n",
    "\n",
    "#### 긴 단락 처리 잔략\n",
    "\n",
    "**처리 안했을 때랑 했을 때 결과 차이 비교를 해야함**\n",
    "\n",
    "1. 100으로 자른다고 했을 때, 남은 단어가 너무 짧은 경우(10 단어 이하) 버림.\n",
    "2. 잘라내서 정답이 영역이 삭제된 경우는 체크 필요.\n",
    "3. 영억이 사라지지 않은 경우, offset 변화량은 체크해야함.  \n",
    "\n",
    "분리되서 추가된 단락인 경우 원래 전체 단락 형태, 그 단락에서 원래 offset 정보를 가지고 있어야함. parent_id, origin_start_offset 기억해서 더해주면 될 것.\n",
    "  \n",
    "#### positive, negative ctxs들 처리 방법\n",
    "  \n",
    "* 검색 영역: title, ctxs\n",
    "* 검색 쿼리: 정답 영역 단어들 + question \n",
    "* 오답 정의: 답이 passage 안에 없음\n",
    "  \n",
    "1. 정답 걸려 나온 경우 -> pos_ctxs 리스트 포함( 최대 100개? )\n",
    "2. 오답들 -> score가 0인 것들(타 단락에서 정답인 것으로 in batch 한다면 내가 고려할 건 없는 게 아닌지?)\n",
    "3. hard negative -> score가 0이 아닌데 오답임 == answer 는 match 안되고 question만 match 됨."
   ]
  },
  {
   "cell_type": "markdown",
   "metadata": {},
   "source": []
  }
 ],
 "metadata": {
  "kernelspec": {
   "display_name": "Python 3.9.13 ('rerank')",
   "language": "python",
   "name": "python3"
  },
  "language_info": {
   "codemirror_mode": {
    "name": "ipython",
    "version": 3
   },
   "file_extension": ".py",
   "mimetype": "text/x-python",
   "name": "python",
   "nbconvert_exporter": "python",
   "pygments_lexer": "ipython3",
   "version": "3.9.13"
  },
  "orig_nbformat": 4,
  "vscode": {
   "interpreter": {
    "hash": "2c254622fc36917f92d8fc2abe99f88a7418b97289d0388c5753f81cf7e3259a"
   }
  }
 },
 "nbformat": 4,
 "nbformat_minor": 2
}
