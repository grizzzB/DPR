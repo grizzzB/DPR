{
 "cells": [
  {
   "cell_type": "code",
   "execution_count": 78,
   "metadata": {},
   "outputs": [],
   "source": [
    "import warnings\n",
    "warnings.simplefilter(action='ignore', category=Warning)"
   ]
  },
  {
   "cell_type": "code",
   "execution_count": 79,
   "metadata": {},
   "outputs": [],
   "source": [
    "from elasticsearch import Elasticsearch, helpers, AsyncElasticsearch\n",
    "import numpy as np\n",
    "import glob\n",
    "import json\n",
    "import copy"
   ]
  },
  {
   "cell_type": "code",
   "execution_count": 80,
   "metadata": {},
   "outputs": [],
   "source": [
    "import pandas as pd\n",
    "import matplotlib.pyplot as plt\n",
    "import seaborn as sns"
   ]
  },
  {
   "cell_type": "code",
   "execution_count": 81,
   "metadata": {},
   "outputs": [],
   "source": [
    "def check_ctx_len(data_list: list):\n",
    "    prag_list = [] # 길이 정보만 \n",
    "    check_docs = []\n",
    "\n",
    "    for doc in data_list:\n",
    "        form = {\n",
    "        \"title\":\"\",\n",
    "        \"len_pragraphs\":0,\n",
    "        \"len_ctxs\": 0,\n",
    "        \"len_qas\": 0,\n",
    "        \"context\":\"\"\n",
    "        }\n",
    "        try:\n",
    "            form[\"title\"] = doc['title']\n",
    "        except:\n",
    "            form[\"title\"] = doc['doc_title']\n",
    "        form['len_pragraphs'] = len(doc['paragraphs'])\n",
    "        for prag in doc['paragraphs']:\n",
    "            form[\"len_ctxs\"] = len(prag['context'].split(\" \"))\n",
    "            form[\"context\"] = prag['context']\n",
    "            form[\"len_qas\"] = len(prag[\"qas\"])\n",
    "        prag_list.append(form)\n",
    "    return prag_list\n",
    "    "
   ]
  },
  {
   "cell_type": "code",
   "execution_count": 82,
   "metadata": {},
   "outputs": [],
   "source": [
    "def show_doc_len(res_list, func):\n",
    "    for r in res_list:\n",
    "        res = check_ctx_len(r)# 최대 최소 등 길이 정보를 조회하는 목적\n",
    "        idx = -1\n",
    "        len_list = [l[\"len_ctxs\"] for l in res]\n",
    "        print(func(len_list))\n",
    "        arr = np.array(len_list)\n",
    "        try:\n",
    "            idx = len_list.index(func(len_list))\n",
    "        except:\n",
    "            pass"
   ]
  },
  {
   "cell_type": "code",
   "execution_count": 83,
   "metadata": {},
   "outputs": [],
   "source": [
    "def index_mrc_docs(idx: str, docs: dict, title: str = 'title', doc_id: str = None) -> list:\n",
    "    # title 키값 이름이 다달라서 파라메터로 받음\n",
    "    docs_insert = []\n",
    "    index = idx\n",
    "    for k, v in docs.items():\n",
    "        src = f\"{index}_{k}\"\n",
    "                \n",
    "        for d in v['data']:\n",
    "            r_tmp = {}\n",
    "            if doc_id:\n",
    "                r_tmp[\"doc_id\"] = d[doc_id]\n",
    "            for single_prag in d[\"paragraphs\"]:\n",
    "                tmp = copy.deepcopy(r_tmp)\n",
    "                tmp[\"_index\"] = index\n",
    "                tmp[\"source\"] = src\n",
    "                tmp[\"title\"] = d[title]\n",
    "                tmp.update(single_prag)\n",
    "                docs_insert.append(tmp)\n",
    "    return docs_insert"
   ]
  },
  {
   "cell_type": "code",
   "execution_count": 84,
   "metadata": {},
   "outputs": [],
   "source": [
    "def load_dataset(path_list: list, train: str = 'train') :\n",
    "    # train 데이터 파일 이름에 train이 없을때를 대비하려고 파라메터로 받음\n",
    "    docs = {}\n",
    "    for doc in path_list:\n",
    "        with open( doc, \"r\",encoding='utf8') as fr:\n",
    "            if train in doc:\n",
    "                docs['train'] = json.load(fr)\n",
    "            else:\n",
    "                docs['dev'] = json.load(fr)\n",
    "    return docs"
   ]
  },
  {
   "cell_type": "code",
   "execution_count": 85,
   "metadata": {},
   "outputs": [
    {
     "name": "stdout",
     "output_type": "stream",
     "text": [
      "['/home/hjb/workspace/DPR/es_idx_config/mrc/mrc_mapping.json', '/home/hjb/workspace/DPR/es_idx_config/mrc/setting.json']\n"
     ]
    }
   ],
   "source": [
    "es_config = glob.glob(\"/home/hjb/workspace/DPR/es_idx_config/mrc/*\")\n",
    "print(es_config)"
   ]
  },
  {
   "cell_type": "markdown",
   "metadata": {},
   "source": [
    "# Create Index"
   ]
  },
  {
   "cell_type": "code",
   "execution_count": 86,
   "metadata": {},
   "outputs": [],
   "source": [
    "payload = {}\n",
    "\n",
    "for config_ in es_config:\n",
    "    with open(config_, 'r', encoding='utf8') as fr:\n",
    "        if 'mapping' in config_:\n",
    "            payload.update(json.load(fr))\n",
    "        else:\n",
    "            payload.update(json.load(fr))"
   ]
  },
  {
   "cell_type": "code",
   "execution_count": 87,
   "metadata": {},
   "outputs": [],
   "source": [
    "es = Elasticsearch([\"http://localhost:9200\"])\n"
   ]
  },
  {
   "cell_type": "code",
   "execution_count": 88,
   "metadata": {},
   "outputs": [
    {
     "data": {
      "text/plain": [
       "{'properties': {'origin_id': {'type': 'keyword', 'index': False},\n",
       "  'offset': {'type': 'keyword', 'index': False},\n",
       "  'title': {'type': 'text',\n",
       "   'fields': {'nori': {'type': 'text', 'analyzer': 'uni_nori_analyzer'},\n",
       "    'keyword': {'type': 'keyword', 'normalizer': 'default_normalizer'}},\n",
       "   'similarity': 'my_sim'},\n",
       "  'context': {'type': 'text',\n",
       "   'fields': {'ngram': {'type': 'text', 'analyzer': 'ngram_analyzer'},\n",
       "    'nori': {'type': 'text', 'analyzer': 'nori_analyzer'},\n",
       "    'keyword': {'type': 'keyword', 'normalizer': 'default_normalizer'}},\n",
       "   'similarity': 'my_sim'},\n",
       "  'qas': {'type': 'object', 'enabled': False},\n",
       "  'source': {'type': 'keyword', 'index': False}}}"
      ]
     },
     "execution_count": 88,
     "metadata": {},
     "output_type": "execute_result"
    }
   ],
   "source": [
    "payload[\"mappings\"]"
   ]
  },
  {
   "cell_type": "code",
   "execution_count": 89,
   "metadata": {},
   "outputs": [
    {
     "data": {
      "text/plain": [
       "ObjectApiResponse({'name': 'e9536fb1b1a5', 'cluster_name': 'docker-cluster', 'cluster_uuid': 'FAWHVAD6QMO9equB10N1SQ', 'version': {'number': '8.0.1', 'build_flavor': 'default', 'build_type': 'docker', 'build_hash': '801d9ccc7c2ee0f2cb121bbe22ab5af77a902372', 'build_date': '2022-02-24T13:55:40.601285296Z', 'build_snapshot': False, 'lucene_version': '9.0.0', 'minimum_wire_compatibility_version': '7.17.0', 'minimum_index_compatibility_version': '7.0.0'}, 'tagline': 'You Know, for Search'})"
      ]
     },
     "execution_count": 89,
     "metadata": {},
     "output_type": "execute_result"
    }
   ],
   "source": [
    "es.info()"
   ]
  },
  {
   "cell_type": "code",
   "execution_count": 90,
   "metadata": {},
   "outputs": [],
   "source": [
    "indices=[\"admin_mrc\",\"book_mrc\", \"news_mrc\", \"minds_news_mrc\", \"korquad1\"]\n"
   ]
  },
  {
   "cell_type": "code",
   "execution_count": 91,
   "metadata": {},
   "outputs": [],
   "source": [
    "for index in indices:\n",
    "    try:\n",
    "        es.indices.delete(index=index)\n",
    "        es.indices.create(index=index ,body=payload)\n",
    "    except Exception:\n",
    "        pass"
   ]
  },
  {
   "cell_type": "code",
   "execution_count": 92,
   "metadata": {},
   "outputs": [
    {
     "name": "stdout",
     "output_type": "stream",
     "text": [
      "{'health': 'yellow', 'status': 'open', 'index': 'minds_news_mrc', 'uuid': 'aeapZJYXS-yhkaKRjgT8cQ', 'pri': '2', 'rep': '1', 'docs.count': '0', 'docs.deleted': '0', 'store.size': '450b', 'pri.store.size': '450b'}\n",
      "{'health': 'yellow', 'status': 'open', 'index': 'korquad1', 'uuid': 'CCBA7mpORwOuC--Sq7G4fA', 'pri': '2', 'rep': '1', 'docs.count': '0', 'docs.deleted': '0', 'store.size': '450b', 'pri.store.size': '450b'}\n",
      "{'health': 'yellow', 'status': 'open', 'index': 'book_mrc', 'uuid': 'MrZCzIImTMe1rCDJSGuRsg', 'pri': '2', 'rep': '1', 'docs.count': '0', 'docs.deleted': '0', 'store.size': '450b', 'pri.store.size': '450b'}\n",
      "{'health': 'yellow', 'status': 'open', 'index': 'news_mrc', 'uuid': 'fYFuBOrdRvCsURR8qxea5w', 'pri': '2', 'rep': '1', 'docs.count': '0', 'docs.deleted': '0', 'store.size': '450b', 'pri.store.size': '450b'}\n",
      "{'health': 'yellow', 'status': 'open', 'index': 'admin_mrc', 'uuid': '430pATrXQTmOHQ5T7gCs4A', 'pri': '2', 'rep': '1', 'docs.count': '0', 'docs.deleted': '0', 'store.size': '450b', 'pri.store.size': '450b'}\n"
     ]
    }
   ],
   "source": [
    "res = es.cat.indices(format=\"json\", v=True)\n",
    "for r in res: \n",
    "    print(r)"
   ]
  },
  {
   "cell_type": "markdown",
   "metadata": {},
   "source": [
    "# Korquad Indexing"
   ]
  },
  {
   "cell_type": "code",
   "execution_count": 93,
   "metadata": {},
   "outputs": [],
   "source": [
    "kor_list = glob.glob(\"./raw_korquad/*.json\")"
   ]
  },
  {
   "cell_type": "code",
   "execution_count": 94,
   "metadata": {},
   "outputs": [
    {
     "data": {
      "text/plain": [
       "['./raw_korquad/KorQuAD_v1.0_train.json',\n",
       " './raw_korquad/KorQuAD_v1.0_dev.json']"
      ]
     },
     "execution_count": 94,
     "metadata": {},
     "output_type": "execute_result"
    }
   ],
   "source": [
    "kor_list"
   ]
  },
  {
   "cell_type": "code",
   "execution_count": 95,
   "metadata": {},
   "outputs": [],
   "source": [
    "docs = load_dataset(kor_list)"
   ]
  },
  {
   "cell_type": "code",
   "execution_count": 96,
   "metadata": {},
   "outputs": [],
   "source": [
    "#docs['train']['data'][0]"
   ]
  },
  {
   "cell_type": "code",
   "execution_count": 97,
   "metadata": {},
   "outputs": [
    {
     "name": "stdout",
     "output_type": "stream",
     "text": [
      "** mean **\n",
      "109.99718309859155\n",
      "114.7\n",
      "** median **\n",
      "100.0\n",
      "100.0\n",
      "** max **\n",
      "482\n",
      "523\n"
     ]
    }
   ],
   "source": [
    "print(\"** mean **\")\n",
    "data_list = [docs['train']['data'], docs['dev']['data']]\n",
    "show_doc_len(data_list, np.mean)\n",
    "print(\"** median **\")\n",
    "show_doc_len(data_list, np.median)\n",
    "print(\"** max **\")\n",
    "show_doc_len(data_list, max)"
   ]
  },
  {
   "cell_type": "code",
   "execution_count": 98,
   "metadata": {},
   "outputs": [
    {
     "name": "stdout",
     "output_type": "stream",
     "text": [
      "0.0782051282051282\n"
     ]
    }
   ],
   "source": [
    "res = check_ctx_len(docs['train']['data']+docs['dev']['data'])# 최대 최소 등 길이 정보를 조회하는 목적\n",
    "len_list = [l[\"len_ctxs\"] for l in res]\n",
    "\n",
    "num = 0\n",
    "\n",
    "for l in len_list:\n",
    "    if l > 160:\n",
    "        num += 1\n",
    "\n",
    "print(num/len(len_list))"
   ]
  },
  {
   "cell_type": "code",
   "execution_count": 99,
   "metadata": {},
   "outputs": [
    {
     "data": {
      "image/png": "[encoded data removed]",
      "text/plain": [
       "<Figure size 640x480 with 1 Axes>"
      ]
     },
     "metadata": {},
     "output_type": "display_data"
    }
   ],
   "source": [
    "sns.distplot(np.array(len_list))\n",
    "plt.show()"
   ]
  },
  {
   "cell_type": "markdown",
   "metadata": {},
   "source": [
    "## korquad 1.0 최대 단락 길이\n",
    "\n",
    "523"
   ]
  },
  {
   "cell_type": "code",
   "execution_count": 100,
   "metadata": {},
   "outputs": [
    {
     "name": "stdout",
     "output_type": "stream",
     "text": [
      "10645\n"
     ]
    }
   ],
   "source": [
    "insert_docs = index_mrc_docs(idx='korquad1', docs=docs, title='title')\n",
    "print(len(insert_docs))"
   ]
  },
  {
   "cell_type": "code",
   "execution_count": 101,
   "metadata": {},
   "outputs": [
    {
     "data": {
      "text/plain": [
       "{'_index': 'korquad1',\n",
       " 'source': 'korquad1_train',\n",
       " 'title': '파우스트_서곡',\n",
       " 'qas': [{'answers': [{'text': '주제, 동기', 'answer_start': 70}],\n",
       "   'id': '6566495-2-0',\n",
       "   'question': '서주에는 무엇이 암시되어 있는가?'},\n",
       "  {'answers': [{'text': '제1바이올린', 'answer_start': 148}],\n",
       "   'id': '6566495-2-1',\n",
       "   'question': '첫부분에는 어떤 악기를 사용해 더욱 명확하게 나타내는가?'},\n",
       "  {'answers': [{'text': '소나타 형식', 'answer_start': 272}],\n",
       "   'id': '6566495-2-2',\n",
       "   'question': '주요부는 어떤 형식으로 되어 있는가?'},\n",
       "  {'answers': [{'text': '저음 주제', 'answer_start': 102}],\n",
       "   'id': '6566518-2-0',\n",
       "   'question': '첫 부분의 주요주제를 암시하는 주제는?'},\n",
       "  {'answers': [{'text': 'D장조', 'answer_start': 409}],\n",
       "   'id': '6566518-2-1',\n",
       "   'question': '제2주제의 축소된 재현부의 조성은?'},\n",
       "  {'answers': [{'text': '4/4박자', 'answer_start': 35}],\n",
       "   'id': '5917067-2-0',\n",
       "   'question': '곡이 시작할때의 박자는?'},\n",
       "  {'answers': [{'text': '고뇌와 갈망 동기, 청춘의 사랑 동기', 'answer_start': 115}],\n",
       "   'id': '5917067-2-1',\n",
       "   'question': '이 곡의 주요 주제는?'},\n",
       "  {'answers': [{'text': 'D장조', 'answer_start': 409}],\n",
       "   'id': '5917067-2-2',\n",
       "   'question': '제 2주제에선 무슨 장조로 재현되는가?'}],\n",
       " 'context': '이 작품은 라단조, Sehr gehalten(아주 신중하게), 4/4박자의 부드러운 서주로 서주로 시작되는데, 여기에는 주요 주제, 동기의 대부분이 암시, 예고되어 있다. 첫 부분의 저음 주제는 주요 주제(고뇌와 갈망 동기, 청춘의 사랑 동기)를 암시하고 있으며, 제1바이올린으로 더욱 명확하게 나타난다. 또한 그것을 이어받는 동기도 중요한 역할을 한다. 여기에 새로운 소재가 더해진 뒤에 새로운 주제도 연주된다. 주요부는 Sehr bewegt(아주 격동적으로), 2/2박자의 자유로운 소나타 형식으로 매우 드라마틱한 구상과 유기적인 구성을 하고 있다. 여기에는 지금까지의 주제나 소재 외에도 오보에에 의한 선율과 제2주제를 떠올리게 하는 부차적인 주제가 더해지는데, 중간부에서는 약보3이 중심이 되고 제2주제는 축소된 재현부에서 D장조로 재현된다. 마지막에는 주요 주제를 회상하면서 조용히 마친다.'}"
      ]
     },
     "execution_count": 101,
     "metadata": {},
     "output_type": "execute_result"
    }
   ],
   "source": [
    "insert_docs[2]"
   ]
  },
  {
   "cell_type": "code",
   "execution_count": 102,
   "metadata": {},
   "outputs": [
    {
     "data": {
      "text/plain": [
       "(10645, [])"
      ]
     },
     "execution_count": 102,
     "metadata": {},
     "output_type": "execute_result"
    }
   ],
   "source": [
    "helpers.bulk(es, insert_docs)"
   ]
  },
  {
   "cell_type": "markdown",
   "metadata": {},
   "source": [
    "# AIHUB data\n",
    "## admin_mrc"
   ]
  },
  {
   "cell_type": "code",
   "execution_count": 103,
   "metadata": {},
   "outputs": [],
   "source": [
    "aihub_list = glob.glob(\"./aihub/admin_mrc/**/*span*.json\")\n"
   ]
  },
  {
   "cell_type": "code",
   "execution_count": 104,
   "metadata": {},
   "outputs": [
    {
     "data": {
      "text/plain": [
       "['./aihub/admin_mrc/train/TL_span_extraction_how.json',\n",
       " './aihub/admin_mrc/train/TL_span_extraction.json',\n",
       " './aihub/admin_mrc/dev/VL_span_extraction_how.json',\n",
       " './aihub/admin_mrc/dev/VL_span_extraction.json']"
      ]
     },
     "execution_count": 104,
     "metadata": {},
     "output_type": "execute_result"
    }
   ],
   "source": [
    "aihub_list"
   ]
  },
  {
   "cell_type": "code",
   "execution_count": 105,
   "metadata": {},
   "outputs": [],
   "source": [
    "docs = load_dataset(aihub_list, 'TL')"
   ]
  },
  {
   "cell_type": "code",
   "execution_count": 106,
   "metadata": {},
   "outputs": [
    {
     "data": {
      "text/plain": [
       "dict_keys(['doc_id', 'doc_title', 'doc_source', 'doc_published', 'doc_class', 'created', 'paragraphs'])"
      ]
     },
     "execution_count": 106,
     "metadata": {},
     "output_type": "execute_result"
    }
   ],
   "source": [
    "docs['train']['data'][0].keys()"
   ]
  },
  {
   "cell_type": "code",
   "execution_count": 107,
   "metadata": {},
   "outputs": [
    {
     "name": "stdout",
     "output_type": "stream",
     "text": [
      "** mean **\n",
      "125.46296064568604\n",
      "128.36695869837297\n",
      "** median **\n",
      "121.0\n",
      "123.0\n",
      "** max **\n",
      "431\n",
      "378\n"
     ]
    }
   ],
   "source": [
    "print(\"** mean **\")\n",
    "data_list = [docs['train']['data'], docs['dev']['data']]\n",
    "show_doc_len(data_list, np.mean)\n",
    "print(\"** median **\")\n",
    "show_doc_len(data_list, np.median)\n",
    "print(\"** max **\")\n",
    "show_doc_len(data_list, max)"
   ]
  },
  {
   "cell_type": "code",
   "execution_count": 108,
   "metadata": {},
   "outputs": [
    {
     "name": "stdout",
     "output_type": "stream",
     "text": [
      "0.19664897190352623\n"
     ]
    }
   ],
   "source": [
    "res = check_ctx_len(docs['train']['data']+docs['dev']['data'])# 최대 최소 등 길이 정보를 조회하는 목적\n",
    "len_list = [l[\"len_ctxs\"] for l in res]\n",
    "\n",
    "num = 0\n",
    "\n",
    "for l in len_list:\n",
    "    if l > 160:\n",
    "        num += 1\n",
    "\n",
    "print(num/len(len_list))"
   ]
  },
  {
   "cell_type": "code",
   "execution_count": 109,
   "metadata": {},
   "outputs": [
    {
     "data": {
      "image/png": "[encoded data removed]",
      "text/plain": [
       "<Figure size 640x480 with 1 Axes>"
      ]
     },
     "metadata": {},
     "output_type": "display_data"
    }
   ],
   "source": [
    "sns.distplot(np.array(len_list))\n",
    "plt.show()"
   ]
  },
  {
   "cell_type": "code",
   "execution_count": 110,
   "metadata": {},
   "outputs": [],
   "source": [
    "insert_docs = index_mrc_docs(idx='admin_mrc', docs=docs, title='doc_title', doc_id='doc_id')"
   ]
  },
  {
   "cell_type": "code",
   "execution_count": 111,
   "metadata": {},
   "outputs": [
    {
     "data": {
      "text/plain": [
       "(75917, [])"
      ]
     },
     "execution_count": 111,
     "metadata": {},
     "output_type": "execute_result"
    }
   ],
   "source": [
    "helpers.bulk(es, insert_docs)"
   ]
  },
  {
   "cell_type": "markdown",
   "metadata": {},
   "source": [
    "## news_mrc"
   ]
  },
  {
   "cell_type": "code",
   "execution_count": 112,
   "metadata": {},
   "outputs": [],
   "source": [
    "aihub_list = glob.glob(\"./aihub/news_mrc/**/*extract*.json\")"
   ]
  },
  {
   "cell_type": "code",
   "execution_count": 113,
   "metadata": {},
   "outputs": [
    {
     "data": {
      "text/plain": [
       "['./aihub/news_mrc/train/TL_span_extraction.json',\n",
       " './aihub/news_mrc/dev/VL_span_extraction.json']"
      ]
     },
     "execution_count": 113,
     "metadata": {},
     "output_type": "execute_result"
    }
   ],
   "source": [
    "aihub_list"
   ]
  },
  {
   "cell_type": "code",
   "execution_count": 114,
   "metadata": {},
   "outputs": [],
   "source": [
    "docs = load_dataset(aihub_list, 'train')"
   ]
  },
  {
   "cell_type": "code",
   "execution_count": 115,
   "metadata": {},
   "outputs": [
    {
     "data": {
      "text/plain": [
       "dict_keys(['doc_id', 'doc_title', 'doc_source', 'doc_published', 'doc_class', 'created', 'paragraphs'])"
      ]
     },
     "execution_count": 115,
     "metadata": {},
     "output_type": "execute_result"
    }
   ],
   "source": [
    "docs['train']['data'][0].keys()"
   ]
  },
  {
   "cell_type": "code",
   "execution_count": 116,
   "metadata": {},
   "outputs": [
    {
     "name": "stdout",
     "output_type": "stream",
     "text": [
      "** mean **\n",
      "170.34916537908492\n",
      "230.71208116024863\n",
      "** median **\n",
      "153.0\n",
      "198.0\n",
      "** max **\n",
      "495\n",
      "486\n"
     ]
    }
   ],
   "source": [
    "print(\"** mean **\")\n",
    "data_list = [docs['train']['data'], docs['dev']['data']]\n",
    "show_doc_len(data_list, np.mean)\n",
    "print(\"** median **\")\n",
    "show_doc_len(data_list, np.median)\n",
    "print(\"** max **\")\n",
    "show_doc_len(data_list, max)"
   ]
  },
  {
   "cell_type": "code",
   "execution_count": 117,
   "metadata": {},
   "outputs": [
    {
     "name": "stdout",
     "output_type": "stream",
     "text": [
      "0.4826299577657108\n"
     ]
    }
   ],
   "source": [
    "res = check_ctx_len(docs['train']['data']+docs['dev']['data'])# 최대 최소 등 길이 정보를 조회하는 목적\n",
    "len_list = [l[\"len_ctxs\"] for l in res]\n",
    "\n",
    "num = 0\n",
    "\n",
    "for l in len_list:\n",
    "    if l > 160:\n",
    "        num += 1\n",
    "\n",
    "print(num/len(len_list))"
   ]
  },
  {
   "cell_type": "code",
   "execution_count": 118,
   "metadata": {},
   "outputs": [
    {
     "data": {
      "image/png": "[encoded data removed]",
      "text/plain": [
       "<Figure size 640x480 with 1 Axes>"
      ]
     },
     "metadata": {},
     "output_type": "display_data"
    }
   ],
   "source": [
    "sns.distplot(np.array(len_list))\n",
    "plt.show()"
   ]
  },
  {
   "cell_type": "code",
   "execution_count": 119,
   "metadata": {},
   "outputs": [
    {
     "name": "stdout",
     "output_type": "stream",
     "text": [
      "125964\n"
     ]
    }
   ],
   "source": [
    "insert_docs = index_mrc_docs(idx='news_mrc', docs=docs, title='doc_title', doc_id='doc_id')\n",
    "print(len(insert_docs))"
   ]
  },
  {
   "cell_type": "code",
   "execution_count": 120,
   "metadata": {},
   "outputs": [
    {
     "data": {
      "text/plain": [
       "{'doc_id': '01601101.20210325201932006',\n",
       " '_index': 'news_mrc',\n",
       " 'source': 'news_mrc_train',\n",
       " 'title': '익산 서부권역 다목적 체육관, 다음달 개관',\n",
       " 'context': '익산시 서부권역 다목적 체육관이 내달 개관을 앞두고 막바지 개관 준비가 한창이다. \\n\\n시에 따르면 시민들의 건강증진과 삶의 질 향상을 위한 생활체육 인프라 확충 등을 위해 지난 2019년 착공된 서부권역 다목적 체육관이 이달 말까지 시설물 준공을 완료하고 다음달부터 본격적인 개관 운영에 들어간다. \\n\\n전문 체육시설인 서부권역 다목적 체육관은 지하 1층과 지상 3층, 연면적 4719㎡ 규모로 총 사업비 124억5000만원이 투입됐다. \\n\\n수영장 6개 레인과 어린이풀장, 다목적실(에어로빅, 요가 등), 체력단련실, 어르신들을 위한 물리ㆍ재활 운동실 등이 들어서며, 수영, 헬스, 요가, 에어로빅, 아쿠아로빅 등 총 5가지 프로그램이 운영될 예정이다. \\n\\n첫 번째로 개관되는 시설은 헬스장이다. \\n\\n다음달 중순부터 회원 신청이 가능하며 체육관에 방문해 신청하면 된다. \\n\\n아울러 시는 코로나19 예방을 위해 소독작업은 물론 체육관 운영시간과 참여 인원을 축소해 운영하는 방안을 계획하고 있다. \\n\\n체육관 전체 소독은 하루 3회로 먼저 개관되는 헬스장의 경우 오후 1시부터 2시까지 1시간 동안 브레이크타임을 도입해 기구와 라커룸 등의 소독작업을 실시한다. \\n\\n시 관계자는 “시민들이 쾌적한 환경에서 다양한 체육활동에 참여할 수 있도록 시설 확충에 주력하고 있다”며“앞으로도 시민들의 생활체육활동을 지원할 수 있는 인프라를 지속적으로 확충해 나 가겠다”고 말했다.',\n",
       " 'qas': [{'qa_type': 1,\n",
       "   'question_id': 4559297,\n",
       "   'question': '익산시에서 시민들의 건강을 위해 운영을 준비 중인 시설은 뭐야',\n",
       "   'is_impossible': False,\n",
       "   'answers': {'text': '서부권역 다목적 체육관',\n",
       "    'answer_start': 4,\n",
       "    'clue_start': None,\n",
       "    'clue_text': None,\n",
       "    'options': None}},\n",
       "  {'qa_type': 1,\n",
       "   'question_id': 4690367,\n",
       "   'question': '거주민들의 건강을 위하여 익산지역은 어떤 걸 만들고 있어',\n",
       "   'is_impossible': False,\n",
       "   'answers': {'text': '서부권역 다목적 체육관',\n",
       "    'answer_start': 4,\n",
       "    'clue_start': None,\n",
       "    'clue_text': None,\n",
       "    'options': None}}],\n",
       " 'context_id': 464098}"
      ]
     },
     "execution_count": 120,
     "metadata": {},
     "output_type": "execute_result"
    }
   ],
   "source": [
    "insert_docs[0]"
   ]
  },
  {
   "cell_type": "code",
   "execution_count": 121,
   "metadata": {},
   "outputs": [
    {
     "data": {
      "text/plain": [
       "(125964, [])"
      ]
     },
     "execution_count": 121,
     "metadata": {},
     "output_type": "execute_result"
    }
   ],
   "source": [
    "helpers.bulk(es, insert_docs)"
   ]
  },
  {
   "cell_type": "markdown",
   "metadata": {},
   "source": [
    "## book_mrc"
   ]
  },
  {
   "cell_type": "code",
   "execution_count": 122,
   "metadata": {},
   "outputs": [],
   "source": [
    "aihub_list = glob.glob(\"./aihub/book_mrc/*.json\")"
   ]
  },
  {
   "cell_type": "code",
   "execution_count": 123,
   "metadata": {},
   "outputs": [
    {
     "data": {
      "text/plain": [
       "['./aihub/book_mrc/book_dev.json', './aihub/book_mrc/book_train.json']"
      ]
     },
     "execution_count": 123,
     "metadata": {},
     "output_type": "execute_result"
    }
   ],
   "source": [
    "aihub_list"
   ]
  },
  {
   "cell_type": "code",
   "execution_count": 124,
   "metadata": {},
   "outputs": [],
   "source": [
    "docs = load_dataset(aihub_list)"
   ]
  },
  {
   "cell_type": "code",
   "execution_count": 125,
   "metadata": {},
   "outputs": [
    {
     "name": "stdout",
     "output_type": "stream",
     "text": [
      "** mean **\n",
      "111.38915797317436\n",
      "112.23570712136409\n",
      "** median **\n",
      "110.0\n",
      "112.0\n",
      "** max **\n",
      "170\n",
      "171\n"
     ]
    }
   ],
   "source": [
    "print(\"** mean **\")\n",
    "data_list = [docs['train']['data'], docs['dev']['data']]\n",
    "show_doc_len(data_list, np.mean)\n",
    "print(\"** median **\")\n",
    "show_doc_len(data_list, np.median)\n",
    "print(\"** max **\")\n",
    "show_doc_len(data_list, max)"
   ]
  },
  {
   "cell_type": "code",
   "execution_count": 126,
   "metadata": {},
   "outputs": [
    {
     "name": "stdout",
     "output_type": "stream",
     "text": [
      "0.02023906547133931\n"
     ]
    }
   ],
   "source": [
    "res = check_ctx_len(docs['train']['data']+docs['dev']['data'])# 최대 최소 등 길이 정보를 조회하는 목적\n",
    "len_list = [l[\"len_ctxs\"] for l in res]\n",
    "\n",
    "num = 0\n",
    "\n",
    "for l in len_list:\n",
    "    if l > 150:\n",
    "        num += 1\n",
    "\n",
    "print(num/len(len_list))"
   ]
  },
  {
   "cell_type": "code",
   "execution_count": 127,
   "metadata": {},
   "outputs": [
    {
     "data": {
      "image/png": "[encoded data removed]",
      "text/plain": [
       "<Figure size 640x480 with 1 Axes>"
      ]
     },
     "metadata": {},
     "output_type": "display_data"
    }
   ],
   "source": [
    "sns.distplot(np.array(len_list))\n",
    "plt.show()"
   ]
  },
  {
   "cell_type": "markdown",
   "metadata": {},
   "source": [
    "최대 길이 171. 아주 긴 단락은 없음"
   ]
  },
  {
   "cell_type": "code",
   "execution_count": 128,
   "metadata": {},
   "outputs": [
    {
     "data": {
      "text/plain": [
       "dict_keys(['time', 'title', 'agency', 'year', 'content_id', 'KDC', 'paragraphs'])"
      ]
     },
     "execution_count": 128,
     "metadata": {},
     "output_type": "execute_result"
    }
   ],
   "source": [
    "docs['train']['data'][0].keys()"
   ]
  },
  {
   "cell_type": "code",
   "execution_count": 129,
   "metadata": {},
   "outputs": [
    {
     "name": "stdout",
     "output_type": "stream",
     "text": [
      "237500\n"
     ]
    }
   ],
   "source": [
    "insert_docs = index_mrc_docs(idx='book_mrc', docs=docs, title='title', doc_id='content_id')\n",
    "print(len(insert_docs))"
   ]
  },
  {
   "cell_type": "code",
   "execution_count": 130,
   "metadata": {},
   "outputs": [
    {
     "data": {
      "text/plain": [
       "(237500, [])"
      ]
     },
     "execution_count": 130,
     "metadata": {},
     "output_type": "execute_result"
    }
   ],
   "source": [
    "helpers.bulk(es, insert_docs)"
   ]
  },
  {
   "cell_type": "markdown",
   "metadata": {},
   "source": [
    "## minds_news_mrc"
   ]
  },
  {
   "cell_type": "code",
   "execution_count": 131,
   "metadata": {},
   "outputs": [],
   "source": [
    "aihub_list = glob.glob(\"./aihub/mindslab_news_mrc/*.json\")"
   ]
  },
  {
   "cell_type": "code",
   "execution_count": 132,
   "metadata": {},
   "outputs": [
    {
     "data": {
      "text/plain": [
       "['./aihub/mindslab_news_mrc/ko_nia_noanswer_squad_all.json',\n",
       " './aihub/mindslab_news_mrc/ko_nia_clue0529_squad_all.json',\n",
       " './aihub/mindslab_news_mrc/ko_nia_normal_squad_all.json']"
      ]
     },
     "execution_count": 132,
     "metadata": {},
     "output_type": "execute_result"
    }
   ],
   "source": [
    "aihub_list"
   ]
  },
  {
   "cell_type": "code",
   "execution_count": 133,
   "metadata": {},
   "outputs": [],
   "source": [
    "docs = load_dataset(aihub_list)"
   ]
  },
  {
   "cell_type": "code",
   "execution_count": 134,
   "metadata": {},
   "outputs": [
    {
     "data": {
      "text/plain": [
       "dict_keys(['title', 'paragraphs', 'source'])"
      ]
     },
     "execution_count": 134,
     "metadata": {},
     "output_type": "execute_result"
    }
   ],
   "source": [
    "docs['dev'][\"data\"][40001].keys()"
   ]
  },
  {
   "cell_type": "code",
   "execution_count": 135,
   "metadata": {},
   "outputs": [
    {
     "name": "stdout",
     "output_type": "stream",
     "text": [
      "** mean **\n",
      "196.71443970072283\n",
      "** median **\n",
      "180.0\n",
      "** max **\n",
      "1481\n"
     ]
    }
   ],
   "source": [
    "print(\"** mean **\")\n",
    "show_doc_len([docs['dev']['data']], np.mean)\n",
    "print(\"** median **\")\n",
    "show_doc_len([docs['dev']['data']], np.median)\n",
    "print(\"** max **\")\n",
    "show_doc_len([docs['dev']['data']], max)"
   ]
  },
  {
   "cell_type": "code",
   "execution_count": 136,
   "metadata": {},
   "outputs": [
    {
     "name": "stdout",
     "output_type": "stream",
     "text": [
      "0.040178382719702414\n"
     ]
    }
   ],
   "source": [
    "res = check_ctx_len(docs['dev']['data'])# 최대 최소 등 길이 정보를 조회하는 목적\n",
    "len_list = [l[\"len_ctxs\"] for l in res]\n",
    "\n",
    "num = 0\n",
    "\n",
    "for l in len_list:\n",
    "    if l > 400:\n",
    "        num += 1\n",
    "\n",
    "print(num/len(len_list))"
   ]
  },
  {
   "cell_type": "code",
   "execution_count": 137,
   "metadata": {},
   "outputs": [
    {
     "data": {
      "image/png": "[encoded data removed]",
      "text/plain": [
       "<Figure size 640x480 with 1 Axes>"
      ]
     },
     "metadata": {},
     "output_type": "display_data"
    }
   ],
   "source": [
    "sns.distplot(np.array(len_list))\n",
    "plt.show()"
   ]
  },
  {
   "cell_type": "code",
   "execution_count": 138,
   "metadata": {},
   "outputs": [
    {
     "name": "stdout",
     "output_type": "stream",
     "text": [
      "47314\n"
     ]
    }
   ],
   "source": [
    "insert_docs = index_mrc_docs(idx='minds_news_mrc', docs=docs, title='title', doc_id=False)\n",
    "print(len(insert_docs))"
   ]
  },
  {
   "cell_type": "code",
   "execution_count": 139,
   "metadata": {},
   "outputs": [
    {
     "data": {
      "text/plain": [
       "(47314, [])"
      ]
     },
     "execution_count": 139,
     "metadata": {},
     "output_type": "execute_result"
    }
   ],
   "source": [
    "helpers.bulk(es, insert_docs)"
   ]
  },
  {
   "cell_type": "code",
   "execution_count": 140,
   "metadata": {},
   "outputs": [
    {
     "data": {
      "text/plain": [
       "{'_index': 'minds_news_mrc',\n",
       " 'source': 'minds_news_mrc_dev',\n",
       " 'title': '15657',\n",
       " 'context': \"한국청소년단체협의회와 여성가족부는 22일부터 28일까지 서울과 충북 괴산에서 '국제청소년포럼'을 연다고 21일 밝혔다. 한국 미국 캐나다 호주 등 전 세계 32개국 75여명의 대학생, 청소년들이 모여 전 세계적 현안문제에 대한 대안과 해결책을 모색하는 자리다. 이번 포럼의 주제는 '청소년과 뉴미디어'다. 스마트폰 SNS 태블릿PC 등 새로운 커뮤니케이션 매체인 '뉴미디어'에 대한 성찰과 문제점에 대해 토론한다. 기조강연을 시작으로 국가별 주제관련 사례발표, 그룹 토론 및 전체총회, '청소년선언문' 작성 및 채택 등 다양한 프로그램을 운영한다. 개회식은 22일 서울 방화동에 있는 국제청소년센터 국제회의장에서 한다. 전 세계 32개국 대학생ㆍ청소년 참가자와 전국의 청소년기관단체장과 청소년지도자 여성가족부 주한외교사절 등 100여명이 참석할 예정이다. 23일에는 유엔미래포럼 박영숙 대표가 '뉴미디어의 균형 있는 발전을 위한 청소년의 역할'에 대해 기조강연을 한다. 뉴미디어의 올바른 활용방안과 청소년문화의 형성에 대해 설명할 계획이다. 27일 폐회식에서는 '청소년선언문'을 채택한다. 선언문에는 전 세계적으로 뉴미디어의 바람직한 발전을 촉구하며 각국 청년들이 함께 실천할 수 있는 내용 등이 담길 예정이다. 한국청소년단체협의회는 포럼이 끝난 뒤 UN 등 국제기구와 참가자 각국 정부 등 국제사회에 선언문을 전달할 예정이다.\",\n",
       " 'qas': [{'question': \"서울과 충북 괴산에서 '국제청소년포럼'을 여는 곳은?\",\n",
       "   'answers': [{'answer_start': 0, 'text': '한국청소년단체협의회와 여성가족부'}],\n",
       "   'id': 'c1_57059-1',\n",
       "   'classtype': 'work_who'},\n",
       "  {'question': \"'국제 청소년포럼'이 열리는 때는?\",\n",
       "   'answers': [{'answer_start': 19, 'text': '22일부터 28일'}],\n",
       "   'id': 'c1_57060-1',\n",
       "   'classtype': 'work_when'},\n",
       "  {'question': '이번 포럼의 주제는?',\n",
       "   'answers': [{'answer_start': 157, 'text': \"'청소년과 뉴미디어'\"}],\n",
       "   'id': 'c1_57061-1',\n",
       "   'classtype': 'work_what'},\n",
       "  {'question': '포럼은 어떻게 진행되는가?',\n",
       "   'answers': [{'answer_start': 232,\n",
       "     'text': \"기조강연을 시작으로 국가별 주제관련 사례발표, 그룹 토론 및 전체총회, '청소년선언문' 작성 및 채택 등 다양한 프로그램을 운영한다.\"}],\n",
       "   'id': 'c1_57062-1',\n",
       "   'classtype': 'work_how'}]}"
      ]
     },
     "execution_count": 140,
     "metadata": {},
     "output_type": "execute_result"
    }
   ],
   "source": [
    "insert_docs[0]"
   ]
  },
  {
   "cell_type": "code",
   "execution_count": 141,
   "metadata": {},
   "outputs": [
    {
     "name": "stdout",
     "output_type": "stream",
     "text": [
      "486695\n"
     ]
    }
   ],
   "source": [
    "print( 75917 + 125964 + 237500 + 47314 )"
   ]
  },
  {
   "cell_type": "markdown",
   "metadata": {},
   "source": [
    "# 간단 요약 노트\n",
    "\n",
    "총 단락 수는 486,695.  \n",
    "  \n",
    "단락 별 길이가 대략 100 언저리(110~190).  \n",
    "최대길이는 1,481(Mindslab이 구축한 뉴스 MRC 데이터)  \n",
    "긴 단락들은 보통 300~500  \n",
    "\n",
    "---  \n",
    "\n",
    "#### 긴 단락 처리 잔략\n",
    "\n",
    "**처리 안했을 때랑 했을 때 결과 차이 비교를 해야함**\n",
    "\n",
    "1. 100으로 자른다고 했을 때, 남은 단어가 너무 짧은 경우(10 단어 이하) 버림.\n",
    "2. 잘라내서 정답이 영역이 삭제된 경우는 체크 필요.\n",
    "3. 영억이 사라지지 않은 경우, offset 변화량은 체크해야함.  \n",
    "\n",
    "분리되서 추가된 단락인 경우 원래 전체 단락 형태, 그 단락에서 원래 offset 정보를 가지고 있어야함. parent_id, origin_start_offset 기억해서 더해주면 될 것.\n",
    "  \n",
    "#### positive, negative ctxs들 처리 방법\n",
    "  \n",
    "* 검색 영역: title, ctxs\n",
    "* 검색 쿼리: 정답 영역 단어들 + question \n",
    "* 오답 정의: 답이 passage 안에 없음\n",
    "  \n",
    "1. 정답 걸려 나온 경우 -> pos_ctxs 리스트 포함( 최대 100개? )\n",
    "2. 오답들 -> score가 0인 것들(타 단락에서 정답인 것으로 in batch 한다면 내가 고려할 건 없는 게 아닌지?)\n",
    "3. hard negative -> score가 0이 아닌데 오답임 == answer 는 match 안되고 question만 match 됨."
   ]
  },
  {
   "cell_type": "code",
   "execution_count": 181,
   "metadata": {},
   "outputs": [],
   "source": [
    "def split_passage(passage: str, max_len: int =120, min_len: int = 10):\n",
    "    # whitespace 기준으로 길이 측정\n",
    "    #tokens = passage.split(\" \")\n",
    "    tokens = passage\n",
    "    sub_passg = []\n",
    "    for i in range(0, len(tokens), max_len):\n",
    "        sub_passg.append(tokens[i:i+max_len])\n",
    "    return sub_passg"
   ]
  },
  {
   "cell_type": "code",
   "execution_count": 182,
   "metadata": {},
   "outputs": [],
   "source": [
    "passage = list(range(0, 140))\n",
    "res = split_passage(passage, 3)\n"
   ]
  },
  {
   "cell_type": "code",
   "execution_count": 184,
   "metadata": {},
   "outputs": [
    {
     "data": {
      "text/plain": [
       "[[0, 1, 2], [3, 4, 5], [6, 7, 8], [9, 10, 11]]"
      ]
     },
     "execution_count": 184,
     "metadata": {},
     "output_type": "execute_result"
    }
   ],
   "source": [
    "res[0:4]"
   ]
  },
  {
   "cell_type": "code",
   "execution_count": 185,
   "metadata": {},
   "outputs": [
    {
     "data": {
      "text/plain": [
       "[0, 1]"
      ]
     },
     "execution_count": 185,
     "metadata": {},
     "output_type": "execute_result"
    }
   ],
   "source": [
    "ll = [0,1,2]\n",
    "ll[:-1]"
   ]
  },
  {
   "cell_type": "code",
   "execution_count": 192,
   "metadata": {},
   "outputs": [
    {
     "data": {
      "text/plain": [
       "False"
      ]
     },
     "execution_count": 192,
     "metadata": {},
     "output_type": "execute_result"
    }
   ],
   "source": [
    "10 in range(*(0,10))"
   ]
  },
  {
   "cell_type": "code",
   "execution_count": 210,
   "metadata": {},
   "outputs": [],
   "source": [
    "EXPLAIN = True\n",
    "DEFAULT = \"default\"\n",
    "GROUP_TOPK = 1\n",
    "TOPK = 100\n",
    "OPERATOR = \"or\"\n",
    "Q_WEIGHTS = 2\n",
    "A_WEIGHTS = 1\n",
    "TAG_WEIGHTS = 1\n",
    "\n",
    "\n",
    "QUERY = {\n",
    "    \"all\": {\n",
    "        \"query\": {\n",
    "            \"match_all\": {}\n",
    "        }\n",
    "    },\n",
    "    \"nori\": {\n",
    "        \"query\": {\n",
    "            \"multi_match\": {\n",
    "                \"query\": DEFAULT,\n",
    "                \"operator\": OPERATOR,\n",
    "                \"fields\": [f\"question.nori^{Q_WEIGHTS}\", f\"answer.nori^{A_WEIGHTS}\",\n",
    "                           f\"word.nori^{Q_WEIGHTS}\", f\"tags.ngram_token^{TAG_WEIGHTS}\"]\n",
    "            }\n",
    "        },\n",
    "        \"size\": TOPK,\n",
    "        \"explain\": EXPLAIN\n",
    "    },\n",
    "    \"ngram\": {\n",
    "        \"query\": {\n",
    "            \"multi_match\": {\n",
    "                \"query\": DEFAULT,\n",
    "                \"operator\": OPERATOR,\n",
    "                \"fields\": [f\"question.ngram^{Q_WEIGHTS}\", f\"answer.ngram^{A_WEIGHTS}\",\n",
    "                           f\"word.ngram^{Q_WEIGHTS}\", f\"tags.ngram_token^{TAG_WEIGHTS}\"]\n",
    "            }\n",
    "        },\n",
    "        \"size\": TOPK,\n",
    "        \"explain\": EXPLAIN\n",
    "    },\n",
    "    \"keyword\": {\n",
    "        \"query\": {\n",
    "            \"multi_match\": {\n",
    "                \"query\": DEFAULT,\n",
    "                \"operator\": OPERATOR,\n",
    "                \"fields\": [\"answer.keyword\", \"question.keyword\", \"tags.keyword\", \"word.keyword\"]\n",
    "            }\n",
    "        },\n",
    "        \"size\": TOPK,\n",
    "        \"explain\": EXPLAIN\n",
    "    },\n",
    "    \"sort\":{\n",
    "        \"_score\" : {\"order\":\"desc\"}\n",
    "    },\n",
    "    \"aggs\": {\n",
    "        \"by_ids\": {\n",
    "          \"terms\": {\n",
    "            \"field\": \"{pivot_id}.keyword\",\n",
    "            \"size\": TOPK,\n",
    "            \"order\": {\"max_score\": \"desc\"}\n",
    "          },\n",
    "          \"aggs\": {\n",
    "            \"by_top_hit\": {\"top_hits\": {\"size\": GROUP_TOPK}},\n",
    "            \"max_score\": {\"max\": {\"script\": \"_score\"}}\n",
    "          }\n",
    "        }\n",
    "    },\n",
    "    \"multi_queris\": {\n",
    "        \"query\": {\n",
    "            \"bool\": {\n",
    "                \"should\": [\n",
    "\n",
    "                ]\n",
    "            }\n",
    "        },\n",
    "        \"size\": TOPK,\n",
    "        \"explain\": EXPLAIN\n",
    "    },\n",
    "    \"positive\":{\n",
    "        \"query\": {\n",
    "            \"bool\": {\n",
    "                \"must\":[\n",
    "                    {\n",
    "                        \"wildcard\": {\n",
    "                            \"context.keyword\": \"*{query}*\"\n",
    "                        }\n",
    "                    },\n",
    "                    {\n",
    "                        \"multi_match\": {\n",
    "                            \"query\":  DEFAULT,\n",
    "                            \"operator\": \"or\",\n",
    "                            \"fields\": [\"title.nori\",\"title.ngram\",\"context.nori\"]\n",
    "                        }\n",
    "                    }\n",
    "                ]\n",
    "            }\n",
    "        },\n",
    "        \"size\": TOPK,\n",
    "        \"explain\": EXPLAIN\n",
    "    },\n",
    "    \"hard_negative\": {\n",
    "        \"query\": {\n",
    "            \"bool\": {\n",
    "                \"must_not\":[\n",
    "                    {\n",
    "                        \"wildcard\": {\n",
    "                            \"context.keyword\": \"*{query}*\"\n",
    "                        }\n",
    "                    }\n",
    "                ],\n",
    "                \"should\": [\n",
    "                    {\n",
    "                        \"multi_match\": {\n",
    "                            \"query\": DEFAULT,\n",
    "                            \"operator\": \"or\",\n",
    "                            \"fields\": [\"title.nori\",\"title.ngram\",\"context.nori\"]\n",
    "                        }\n",
    "                    }\n",
    "                    \n",
    "                ]\n",
    "            }\n",
    "        },\n",
    "        \"size\": TOPK,\n",
    "        \"explain\":EXPLAIN\n",
    "    }\n",
    "}\n",
    "\n"
   ]
  },
  {
   "cell_type": "code",
   "execution_count": 212,
   "metadata": {},
   "outputs": [],
   "source": [
    "query = copy.copy(QUERY['positive'])"
   ]
  },
  {
   "cell_type": "code",
   "execution_count": 220,
   "metadata": {},
   "outputs": [],
   "source": [
    "answ = \"국청소년단체협의회와 여성가족부\"\n",
    "question = \"서울과 충북 괴산에서 '국제청소년포럼'을 여는 곳은?\"\n",
    "\n",
    "new_q = query[\"query\"][\"bool\"][\"must\"][0][\"wildcard\"][\"context.keyword\"].format(query=answ)\n",
    "\n",
    "query[\"query\"][\"bool\"][\"must\"][0][\"wildcard\"][\"context.keyword\"] = new_q\n",
    "query[\"query\"][\"bool\"][\"must\"][1][\"multi_match\"][\"query\"]=question"
   ]
  },
  {
   "cell_type": "code",
   "execution_count": 221,
   "metadata": {},
   "outputs": [
    {
     "data": {
      "text/plain": [
       "{'query': {'bool': {'must': [{'wildcard': {'context.keyword': '*국청소년단체협의회와 여성가족부*'}},\n",
       "    {'multi_match': {'query': \"서울과 충북 괴산에서 '국제청소년포럼'을 여는 곳은?\",\n",
       "      'operator': 'or',\n",
       "      'fields': ['title.nori', 'title.ngram', 'context.nori']}}]}},\n",
       " 'size': 100,\n",
       " 'explain': True}"
      ]
     },
     "execution_count": 221,
     "metadata": {},
     "output_type": "execute_result"
    }
   ],
   "source": [
    "query"
   ]
  },
  {
   "cell_type": "code",
   "execution_count": 207,
   "metadata": {},
   "outputs": [],
   "source": [
    "res = es.search(index=index, body=QUERY['all'])"
   ]
  },
  {
   "cell_type": "code",
   "execution_count": 208,
   "metadata": {},
   "outputs": [
    {
     "data": {
      "text/plain": [
       "10"
      ]
     },
     "execution_count": 208,
     "metadata": {},
     "output_type": "execute_result"
    }
   ],
   "source": [
    "len(res['hits']['hits'])"
   ]
  },
  {
   "cell_type": "code",
   "execution_count": 205,
   "metadata": {},
   "outputs": [
    {
     "data": {
      "text/plain": [
       "dict_keys(['source', 'title', 'qas', 'context'])"
      ]
     },
     "execution_count": 205,
     "metadata": {},
     "output_type": "execute_result"
    }
   ],
   "source": [
    "res['hits']['hits'][0][\"_source\"].keys()"
   ]
  },
  {
   "cell_type": "code",
   "execution_count": null,
   "metadata": {},
   "outputs": [],
   "source": []
  }
 ],
 "metadata": {
  "kernelspec": {
   "display_name": "Python 3.9.13 ('rerank')",
   "language": "python",
   "name": "python3"
  },
  "language_info": {
   "codemirror_mode": {
    "name": "ipython",
    "version": 3
   },
   "file_extension": ".py",
   "mimetype": "text/x-python",
   "name": "python",
   "nbconvert_exporter": "python",
   "pygments_lexer": "ipython3",
   "version": "3.9.13"
  },
  "orig_nbformat": 4,
  "vscode": {
   "interpreter": {
    "hash": "2c254622fc36917f92d8fc2abe99f88a7418b97289d0388c5753f81cf7e3259a"
   }
  }
 },
 "nbformat": 4,
 "nbformat_minor": 2
}
