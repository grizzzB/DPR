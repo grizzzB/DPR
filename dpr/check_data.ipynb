{
 "cells": [
  {
   "cell_type": "code",
   "execution_count": 2,
   "metadata": {},
   "outputs": [],
   "source": [
    "import glob\n",
    "import json\n",
    "import pprint"
   ]
  },
  {
   "cell_type": "code",
   "execution_count": 3,
   "metadata": {},
   "outputs": [
    {
     "data": {
      "text/plain": [
       "['./downloads/retriever/nq-train.json',\n",
       " './downloads/retriever/trivia-train.json',\n",
       " './downloads/retriever/nq-adv-hn-train.json',\n",
       " './downloads/retriever/curatedtrec-train.json',\n",
       " './downloads/retriever/webq-train.json',\n",
       " './downloads/retriever/squad1-train.json']"
      ]
     },
     "execution_count": 3,
     "metadata": {},
     "output_type": "execute_result"
    }
   ],
   "source": [
    "irdata_list = glob.glob(\"./downloads/retriever/*train.json\")\n",
    "irdata_list"
   ]
  },
  {
   "cell_type": "code",
   "execution_count": 4,
   "metadata": {},
   "outputs": [],
   "source": [
    "with open( irdata_list[0], \"r\",encoding='utf8') as fr:\n",
    "    docs = json.load(fr)"
   ]
  },
  {
   "cell_type": "code",
   "execution_count": 5,
   "metadata": {},
   "outputs": [
    {
     "name": "stdout",
     "output_type": "stream",
     "text": [
      "dict_keys(['dataset', 'question', 'answers', 'positive_ctxs', 'negative_ctxs', 'hard_negative_ctxs'])\n",
      "58880\n"
     ]
    }
   ],
   "source": [
    "print(f\"{docs[0].keys()}\\n{len(docs)}\")"
   ]
  },
  {
   "cell_type": "markdown",
   "metadata": {},
   "source": [
    "#### 키값 내용\n",
    "  \n",
    "dataset : 데이터 셋 정보  \n",
    "question: 질문 문장 하나  \n",
    "answers: mrc 최종 결과  \n",
    "positive_ctxs: 답이 포함되어 있고, bm25 상위 랭크에 걸리는 결과들  \n",
    "negative_ctxs: 답이 없지만 검색되어 나온 결과들. random인 것 같음. 검색 스코어 0  \n",
    "hard_negative_ctxs: 검색 스코어가 높은데 답은 없는 검색 결과  "
   ]
  },
  {
   "cell_type": "code",
   "execution_count": 6,
   "metadata": {},
   "outputs": [],
   "source": [
    "def check_doc(doc:dict):\n",
    "    \n",
    "    data = doc[\"dataset\"]\n",
    "    q = doc[\"question\"]\n",
    "    a = doc[\"answers\"]\n",
    "    pos = len(doc[\"positive_ctxs\"])\n",
    "    neg = len(doc[\"negative_ctxs\"])\n",
    "    h_neg = len(doc[\"hard_negative_ctxs\"])\n",
    "    \n",
    "    print(f\"{data} | {q} | {a}\\npos:{pos} neg:{neg} hard neg:{h_neg}\")"
   ]
  },
  {
   "cell_type": "code",
   "execution_count": 7,
   "metadata": {},
   "outputs": [],
   "source": [
    "def get_datatext(idx, doc_key):\n",
    "    pprint.pprint(docs[idx][doc_key])"
   ]
  },
  {
   "cell_type": "markdown",
   "metadata": {},
   "source": [
    "title_score는 rank1 만 1 이고, 나머진 0. 뭘 기준으로 하는지 모르겠음. \n",
    "논문에서는 모든 passage에 제목을 [SEP] 토큰으로 이어붙였다고 함."
   ]
  },
  {
   "cell_type": "code",
   "execution_count": 17,
   "metadata": {},
   "outputs": [],
   "source": [
    "idx = 100"
   ]
  },
  {
   "cell_type": "code",
   "execution_count": 8,
   "metadata": {},
   "outputs": [
    {
     "data": {
      "text/plain": [
       "{'title': 'History of roller derby',\n",
       " 'text': 'three decades. Among these races was an 8.5-mile roller marathon organized in 1908 by a group of Chicago rink owners, a 24-hour endurance championship held in Milwaukee in 1913, and a 24-hour banked track race held at Madison Square Garden in 1914. \"The New York Times\" noted that the crowd at Madison Square Garden enjoyed the sudden sprints and spills during the event\\'s preliminary races. The term \"derby\", meaning a race or multi-race event, appeared in the press as early as 1922, when the \"Chicago Tribune\" announced and reported on the results of two \"roller derby\" events held that year.',\n",
       " 'score': 13.821991,\n",
       " 'title_score': 0,\n",
       " 'passage_id': '11105240'}"
      ]
     },
     "execution_count": 8,
     "metadata": {},
     "output_type": "execute_result"
    }
   ],
   "source": [
    "doc_key = \"positive_ctxs\"\n",
    "docs[idx][doc_key][1]\n",
    "#check_doc(docs[idx])\n",
    "#(idx, \"positive_ctxs\")"
   ]
  },
  {
   "cell_type": "code",
   "execution_count": 9,
   "metadata": {},
   "outputs": [
    {
     "data": {
      "text/plain": [
       "{'title': 'History of roller derby',\n",
       " 'text': 'three decades. Among these races was an 8.5-mile roller marathon organized in 1908 by a group of Chicago rink owners, a 24-hour endurance championship held in Milwaukee in 1913, and a 24-hour banked track race held at Madison Square Garden in 1914. \"The New York Times\" noted that the crowd at Madison Square Garden enjoyed the sudden sprints and spills during the event\\'s preliminary races. The term \"derby\", meaning a race or multi-race event, appeared in the press as early as 1922, when the \"Chicago Tribune\" announced and reported on the results of two \"roller derby\" events held that year.',\n",
       " 'score': 1000,\n",
       " 'title_score': 1,\n",
       " 'passage_id': '11105240'}"
      ]
     },
     "execution_count": 9,
     "metadata": {},
     "output_type": "execute_result"
    }
   ],
   "source": [
    "docs[idx][doc_key][0]"
   ]
  },
  {
   "cell_type": "code",
   "execution_count": 18,
   "metadata": {},
   "outputs": [
    {
     "name": "stdout",
     "output_type": "stream",
     "text": [
      "nq_train_psgs_w100 | when did zebra mussels come to north america | ['1988']\n",
      "pos:6 neg:50 hard neg:95\n",
      "[{'passage_id': '2709268',\n",
      "  'score': 1000,\n",
      "  'text': 'reporting having problems with their water treatment plants with '\n",
      "          'the mussels attaching themselves to pipeworks. Anglian Water has '\n",
      "          'estimated that it costs £500,000 per year to remove the mussels '\n",
      "          'from their treatment plants. It has been argued that zebra mussels '\n",
      "          'have also had an effect on fish populations, with dwindling fish '\n",
      "          'populations in areas such as Salford Quays. They were first '\n",
      "          'detected in Canada in the Great Lakes in 1988, in Lake St. Clair, '\n",
      "          'located east/northeast of Detroit and Windsor. It is believed they '\n",
      "          'were inadvertently introduced into the lakes in the ballast water '\n",
      "          'of ocean-going ships traversing the St.',\n",
      "  'title': 'Zebra mussel',\n",
      "  'title_score': 1},\n",
      " {'passage_id': '15284508',\n",
      "  'score': 16.869495,\n",
      "  'text': 'leave the fish with an open wound which in turn causes them to '\n",
      "          'bleed till death. Rarely a different fish survive a Lamprey '\n",
      "          'puncture. Another example of the migration of non-native species is '\n",
      "          '\"Dreissena Polymorpha\", common name Zebra Mussel, originating in '\n",
      "          'Asian waters. They first appeared in North-America in 1988 in Lake '\n",
      "          'St Clair. The Zebra mussels are (\"filter feeders\") and fully grown '\n",
      "          'mussels have the potential of filtering up to a liter (1 quart) of '\n",
      "          'water per day. With the large population of mussels found in '\n",
      "          'Canadian waters, this means the waters are being filtered each day, '\n",
      "          'which causes',\n",
      "  'title': 'Aquatic invasive species in Canada',\n",
      "  'title_score': 0},\n",
      " {'passage_id': '15426414',\n",
      "  'score': 16.827427,\n",
      "  'text': 'of nonindigenous species that are mentioned in NISA. In 1988 zebra '\n",
      "          'mussels (\"Dreissena polymorpha\") were found in Lake Erie, and soon '\n",
      "          'after they spread to all the Great Lakes. Since then, zebra mussels '\n",
      "          'can still be found in each of the Great Lakes, as well as '\n",
      "          'throughout the major navigable rivers in the eastern part of the '\n",
      "          'United States (including the Hudson, St. Lawrence, and Niagara '\n",
      "          'Rivers). Recent reports have revealed that this species has '\n",
      "          'dispersed as far as California. A native of western Russia, the '\n",
      "          'zebra mussel most likely made its way to North America through the '\n",
      "          'release of',\n",
      "  'title': 'National Invasive Species Act',\n",
      "  'title_score': 0},\n",
      " {'passage_id': '2709271',\n",
      "  'score': 13.945395,\n",
      "  'text': 'USGS Zebra mussel distribution map for full scope of invasion. '\n",
      "          'Congressional researchers have estimated that the zebra mussel has '\n",
      "          'cost businesses and communities over $5 billion since their initial '\n",
      "          'invasion. Zebra mussels have cost power companies alone over $3 '\n",
      "          'billion. From their first appearance in American waters in 1988, '\n",
      "          'zebra mussels have spread to a large number of waterways, including '\n",
      "          'Lake Simcoe in the Great Lakes region, the Mississippi, Hudson, St. '\n",
      "          'Lawrence, Ohio, Cumberland, Missouri, Tennessee, Huron, Colorado, '\n",
      "          'and Arkansas Rivers, and 11 lakes and 5 river basins in Texas. '\n",
      "          'Today, the invasion continues. For instance, in 2009, the '\n",
      "          'Massachusetts',\n",
      "  'title': 'Zebra mussel',\n",
      "  'title_score': 0},\n",
      " {'passage_id': '2709268',\n",
      "  'score': 13.240645,\n",
      "  'text': 'reporting having problems with their water treatment plants with '\n",
      "          'the mussels attaching themselves to pipeworks. Anglian Water has '\n",
      "          'estimated that it costs £500,000 per year to remove the mussels '\n",
      "          'from their treatment plants. It has been argued that zebra mussels '\n",
      "          'have also had an effect on fish populations, with dwindling fish '\n",
      "          'populations in areas such as Salford Quays. They were first '\n",
      "          'detected in Canada in the Great Lakes in 1988, in Lake St. Clair, '\n",
      "          'located east/northeast of Detroit and Windsor. It is believed they '\n",
      "          'were inadvertently introduced into the lakes in the ballast water '\n",
      "          'of ocean-going ships traversing the St.',\n",
      "  'title': 'Zebra mussel',\n",
      "  'title_score': 0},\n",
      " {'passage_id': '151992',\n",
      "  'score': 12.626493,\n",
      "  'text': 'zebra mussel, which was first discovered in 1988, and quagga mussel '\n",
      "          'in 1989. The mollusks are efficient filter feeders, competing with '\n",
      "          'native mussels and reducing available food and spawning grounds for '\n",
      "          'fish. In addition, the mussels may be a nuisance to industries by '\n",
      "          'clogging pipes. The U.S. Fish and Wildlife Service estimates that '\n",
      "          'the economic impact of the zebra mussel could be about $5 billion '\n",
      "          'over the next decade. The alewife first entered the system west of '\n",
      "          'Lake Ontario via 19th-century canals. By the 1960s, the small '\n",
      "          'silver fish had become a familiar nuisance to beach goers across '\n",
      "          'Lakes Michigan,',\n",
      "  'title': 'Great Lakes',\n",
      "  'title_score': 0}]\n"
     ]
    }
   ],
   "source": [
    "check_doc(docs[idx])\n",
    "get_datatext(idx, \"positive_ctxs\")"
   ]
  },
  {
   "cell_type": "markdown",
   "metadata": {},
   "source": [
    "완전 같은데 1000점 짜리랑 아닌 게 있음(idx 19, 1 등등)  \n",
    "원래 답(주어진 passage)과 검색 결과인가? 아마도 그런듯"
   ]
  },
  {
   "cell_type": "markdown",
   "metadata": {},
   "source": [
    "테스트"
   ]
  },
  {
   "cell_type": "code",
   "execution_count": null,
   "metadata": {},
   "outputs": [],
   "source": [
    "python train_dense_encoder.py \\\n",
    "train_datasets=[\"nq-train.json\", ] \\\n",
    "dev_datasets=[list of dev datasets, comma separated without spaces] \\\n",
    "train=biencoder_local \\\n",
    "output_dir={path to checkpoints dir}"
   ]
  },
  {
   "cell_type": "markdown",
   "metadata": {},
   "source": []
  }
 ],
 "metadata": {
  "kernelspec": {
   "display_name": "Python 3.9.13 ('rerank')",
   "language": "python",
   "name": "python3"
  },
  "language_info": {
   "codemirror_mode": {
    "name": "ipython",
    "version": 3
   },
   "file_extension": ".py",
   "mimetype": "text/x-python",
   "name": "python",
   "nbconvert_exporter": "python",
   "pygments_lexer": "ipython3",
   "version": "3.9.13"
  },
  "orig_nbformat": 4,
  "vscode": {
   "interpreter": {
    "hash": "2c254622fc36917f92d8fc2abe99f88a7418b97289d0388c5753f81cf7e3259a"
   }
  }
 },
 "nbformat": 4,
 "nbformat_minor": 2
}
